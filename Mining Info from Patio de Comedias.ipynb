{
 "cells": [
  {
   "cell_type": "markdown",
   "metadata": {},
   "source": [
    "## This Code Tries to Retrieve Information from the Patio de Comedias' Website "
   ]
  },
  {
   "cell_type": "markdown",
   "metadata": {},
   "source": [
    "First, we import all the libraries to ensure we can use different features in this process"
   ]
  },
  {
   "cell_type": "code",
   "execution_count": 10,
   "metadata": {},
   "outputs": [
    {
     "name": "stdout",
     "output_type": "stream",
     "text": [
      "Folium imported\n",
      "Pandas imported\n",
      "BeautifulSoup imported\n"
     ]
    }
   ],
   "source": [
    "import requests # library to handle requests\n",
    "import pandas as pd # library for data analsysis\n",
    "from bs4 import BeautifulSoup #BeautifulSoup for HTML Scrapping\n",
    "import collections\n",
    "from geopy.geocoders import Nominatim # module to convert an address into latitude and longitude values\n",
    "\n",
    "# libraries for displaying images\n",
    "from IPython.display import Image \n",
    "from IPython.core.display import HTML \n",
    "    \n",
    "# tranforming json file into a pandas dataframe library\n",
    "from pandas.io.json import json_normalize\n",
    "\n",
    "import folium # plotting library\n",
    "\n",
    "print('Folium imported')\n",
    "print('Pandas imported')\n",
    "print('BeautifulSoup imported')"
   ]
  },
  {
   "cell_type": "markdown",
   "metadata": {},
   "source": [
    "Now, we read get the page source from the website of interest"
   ]
  },
  {
   "cell_type": "code",
   "execution_count": 11,
   "metadata": {},
   "outputs": [],
   "source": [
    "#To feed the webpage directly we can do the following:\n",
    "source=requests.get('http://patiodecomedias.org/').text\n",
    "newsoup = BeautifulSoup(source, 'lxml') #create a new beautiful soup object\n",
    "#print(newsoup.prettify())"
   ]
  },
  {
   "cell_type": "code",
   "execution_count": 12,
   "metadata": {},
   "outputs": [
    {
     "data": {
      "text/plain": [
       "<figure class=\"aligncenter\"><a href=\"http://patiodecomedias.org/la-reina-de-la-china/\"><img alt=\"\" class=\"wp-image-1033\" sizes=\"(max-width: 1024px) 100vw, 1024px\" src=\"http://patiodecomedias.org/wp-content/uploads/2019/05/La-reina-de-la-China-0619-1024x625.jpg\" srcset=\"http://patiodecomedias.org/wp-content/uploads/2019/05/La-reina-de-la-China-0619-1024x625.jpg 1024w, http://patiodecomedias.org/wp-content/uploads/2019/05/La-reina-de-la-China-0619-300x183.jpg 300w, http://patiodecomedias.org/wp-content/uploads/2019/05/La-reina-de-la-China-0619-768x469.jpg 768w, http://patiodecomedias.org/wp-content/uploads/2019/05/La-reina-de-la-China-0619.jpg 1110w\"/></a></figure>"
      ]
     },
     "execution_count": 12,
     "metadata": {},
     "output_type": "execute_result"
    }
   ],
   "source": [
    "figure = newsoup.find_all('figure') #find the table body element where all the information is embedded\n",
    "#<figure class=\"aligncenter\"> this element contains the info for each event entry\n",
    "figure[0] #this is the first entry in the website correspongind to \"la reina de la china\""
   ]
  },
  {
   "cell_type": "markdown",
   "metadata": {},
   "source": [
    "Now we need to access the anchor tag with the corresponding url so that we can go deeper and retrieve information regarding the event"
   ]
  },
  {
   "cell_type": "code",
   "execution_count": 65,
   "metadata": {},
   "outputs": [],
   "source": [
    "link=figure[0].find('a', href=True) #from the first figure section, fint the anchor tag that has an href class\n",
    "url= link['href'] #then we extract the url only\n",
    "#print(url) #print the url :)\n",
    "URLS=[]\n",
    "URLS.append(url)\n",
    "#print(URLS)"
   ]
  },
  {
   "cell_type": "markdown",
   "metadata": {},
   "source": [
    "### Accessing the url from the first figure element "
   ]
  },
  {
   "cell_type": "markdown",
   "metadata": {},
   "source": [
    "We proceed in a similar manner to the first section, where we create a BeautifulSoup object and look for a specific tag or element in the source code"
   ]
  },
  {
   "cell_type": "code",
   "execution_count": 17,
   "metadata": {},
   "outputs": [
    {
     "name": "stdout",
     "output_type": "stream",
     "text": [
      "<!DOCTYPE html>\n",
      "<html lang=\"es\">\n",
      " <head>\n",
      "  <meta charset=\"utf-8\"/>\n",
      "  <meta content=\"IE=edge,chrome=1\" http-equiv=\"X-UA-Compatible\"/>\n",
      "  <meta content=\"width=device-width, initial-scale=1.0\" name=\"viewport\"/>\n",
      "  <link href=\"http://patiodecomedias.org/xmlrpc.php\" rel=\"pingback\"/>\n",
      "  <title>\n",
      "   La Reina de la China\n",
      "  </title>\n",
      "  <link href=\"//fonts.googleapis.com\" rel=\"dns-prefetch\"/>\n",
      "  <link href=\"//s.w.org\" rel=\"dns-prefetch\"/>\n",
      "  <link href=\"http://patiodecomedias.org/feed/\" rel=\"alternate\" title=\" » Feed\" type=\"application/rss+xml\"/>\n",
      "  <link href=\"http://patiodecomedias.org/comments/feed/\" rel=\"alternate\" title=\" » RSS de los comentarios\" type=\"application/rss+xml\"/>\n",
      "  <!-- This site uses the Google Analytics by MonsterInsights plugin v7.6.0 - Using Analytics tracking - https://www.monsterinsights.com/ -->\n",
      "  <!-- Nota: MonsterInsights no está actualmente configurado en este sitio. El dueño del sitio necesita identificarse usando su cuenta de Google Analytics en el panel de ajustes de MonsterInsights. -->\n",
      "  <!-- No UA code set -->\n",
      "  <!-- / Google Analytics by MonsterInsights -->\n",
      "  <script type=\"text/javascript\">\n",
      "   window._wpemojiSettings = {\"baseUrl\":\"https:\\/\\/s.w.org\\/images\\/core\\/emoji\\/12.0.0-1\\/72x72\\/\",\"ext\":\".png\",\"svgUrl\":\"https:\\/\\/s.w.org\\/images\\/core\\/emoji\\/12.0.0-1\\/svg\\/\",\"svgExt\":\".svg\",\"source\":{\"concatemoji\":\"http:\\/\\/patiodecomedias.org\\/wp-includes\\/js\\/wp-emoji-release.min.js?ver=5.2.2\"}};\n",
      "\t\t\t!function(a,b,c){function d(a,b){var c=String.fromCharCode;l.clearRect(0,0,k.width,k.height),l.fillText(c.apply(this,a),0,0);var d=k.toDataURL();l.clearRect(0,0,k.width,k.height),l.fillText(c.apply(this,b),0,0);var e=k.toDataURL();return d===e}function e(a){var b;if(!l||!l.fillText)return!1;switch(l.textBaseline=\"top\",l.font=\"600 32px Arial\",a){case\"flag\":return!(b=d([55356,56826,55356,56819],[55356,56826,8203,55356,56819]))&&(b=d([55356,57332,56128,56423,56128,56418,56128,56421,56128,56430,56128,56423,56128,56447],[55356,57332,8203,56128,56423,8203,56128,56418,8203,56128,56421,8203,56128,56430,8203,56128,56423,8203,56128,56447]),!b);case\"emoji\":return b=d([55357,56424,55356,57342,8205,55358,56605,8205,55357,56424,55356,57340],[55357,56424,55356,57342,8203,55358,56605,8203,55357,56424,55356,57340]),!b}return!1}function f(a){var c=b.createElement(\"script\");c.src=a,c.defer=c.type=\"text/javascript\",b.getElementsByTagName(\"head\")[0].appendChild(c)}var g,h,i,j,k=b.createElement(\"canvas\"),l=k.getContext&&k.getContext(\"2d\");for(j=Array(\"flag\",\"emoji\"),c.supports={everything:!0,everythingExceptFlag:!0},i=0;i<j.length;i++)c.supports[j[i]]=e(j[i]),c.supports.everything=c.supports.everything&&c.supports[j[i]],\"flag\"!==j[i]&&(c.supports.everythingExceptFlag=c.supports.everythingExceptFlag&&c.supports[j[i]]);c.supports.everythingExceptFlag=c.supports.everythingExceptFlag&&!c.supports.flag,c.DOMReady=!1,c.readyCallback=function(){c.DOMReady=!0},c.supports.everything||(h=function(){c.readyCallback()},b.addEventListener?(b.addEventListener(\"DOMContentLoaded\",h,!1),a.addEventListener(\"load\",h,!1)):(a.attachEvent(\"onload\",h),b.attachEvent(\"onreadystatechange\",function(){\"complete\"===b.readyState&&c.readyCallback()})),g=c.source||{},g.concatemoji?f(g.concatemoji):g.wpemoji&&g.twemoji&&(f(g.twemoji),f(g.wpemoji)))}(window,document,window._wpemojiSettings);\n",
      "  </script>\n",
      "  <style type=\"text/css\">\n",
      "   img.wp-smiley,\n",
      "img.emoji {\n",
      "\tdisplay: inline !important;\n",
      "\tborder: none !important;\n",
      "\tbox-shadow: none !important;\n",
      "\theight: 1em !important;\n",
      "\twidth: 1em !important;\n",
      "\tmargin: 0 .07em !important;\n",
      "\tvertical-align: -0.1em !important;\n",
      "\tbackground: none !important;\n",
      "\tpadding: 0 !important;\n",
      "}\n",
      "  </style>\n",
      "  <link href=\"http://patiodecomedias.org/wp-includes/css/dist/block-library/style.min.css?ver=5.2.2\" id=\"wp-block-library-css\" media=\"all\" rel=\"stylesheet\" type=\"text/css\"/>\n",
      "  <link href=\"http://patiodecomedias.org/wp-content/themes/simpleshift/assets/css/bootstrap.min.css?ver=1.0\" id=\"bootstrap-css\" media=\"all\" rel=\"stylesheet\" type=\"text/css\"/>\n",
      "  <link href=\"http://patiodecomedias.org/wp-content/themes/simpleshift/assets/css/font-awesome.min.css?ver=1.0\" id=\"font-awesome-css\" media=\"all\" rel=\"stylesheet\" type=\"text/css\"/>\n",
      "  <link href=\"//fonts.googleapis.com/css?family=Raleway%3A400%2C100%2C200%2C300%2C500%2C700&amp;ver=1.0\" id=\"simpleshift-raleway-css\" media=\"all\" rel=\"stylesheet\" type=\"text/css\"/>\n",
      "  <link href=\"//fonts.googleapis.com/css?family=Lato%3A400%2C100%2C300%2C700%2C100italic%2C300italic%2C400italic&amp;ver=1.0\" id=\"simpleshift-lato-css\" media=\"all\" rel=\"stylesheet\" type=\"text/css\"/>\n",
      "  <link href=\"http://patiodecomedias.org/wp-content/themes/simpleshift/style.css?ver=5.2.2\" id=\"simpleshift-style-css\" media=\"all\" rel=\"stylesheet\" type=\"text/css\"/>\n",
      "  <link href=\"http://patiodecomedias.org/wp-content/themes/simpleshift/inc/kirki/assets/css/kirki-styles.css\" id=\"kirki-styles-simpleshift-config-css\" media=\"all\" rel=\"stylesheet\" type=\"text/css\"/>\n",
      "  <style id=\"kirki-styles-simpleshift-config-inline-css\" type=\"text/css\">\n",
      "   .frontpage-banner{background-color:#ea940d;}\n",
      "  </style>\n",
      "  <script src=\"http://patiodecomedias.org/wp-includes/js/jquery/jquery.js?ver=1.12.4-wp\" type=\"text/javascript\">\n",
      "  </script>\n",
      "  <script src=\"http://patiodecomedias.org/wp-includes/js/jquery/jquery-migrate.min.js?ver=1.4.1\" type=\"text/javascript\">\n",
      "  </script>\n",
      "  <!--[if lt IE 9]>\n",
      "<script type='text/javascript' src='http://patiodecomedias.org/wp-content/themes/simpleshift/assets/js/html5shiv.js?ver=1.0.0'></script>\n",
      "<![endif]-->\n",
      "  <!--[if lt IE 9]>\n",
      "<script type='text/javascript' src='http://patiodecomedias.org/wp-content/themes/simpleshift/assets/js/respond.js?ver=1.0.0'></script>\n",
      "<![endif]-->\n",
      "  <link href=\"http://patiodecomedias.org/wp-json/\" rel=\"https://api.w.org/\"/>\n",
      "  <link href=\"http://patiodecomedias.org/xmlrpc.php?rsd\" rel=\"EditURI\" title=\"RSD\" type=\"application/rsd+xml\"/>\n",
      "  <link href=\"http://patiodecomedias.org/wp-includes/wlwmanifest.xml\" rel=\"wlwmanifest\" type=\"application/wlwmanifest+xml\"/>\n",
      "  <meta content=\"WordPress 5.2.2\" name=\"generator\"/>\n",
      "  <link href=\"http://patiodecomedias.org/la-reina-de-la-china/\" rel=\"canonical\"/>\n",
      "  <link href=\"http://patiodecomedias.org/?p=1029\" rel=\"shortlink\"/>\n",
      "  <link href=\"http://patiodecomedias.org/wp-json/oembed/1.0/embed?url=http%3A%2F%2Fpatiodecomedias.org%2Fla-reina-de-la-china%2F\" rel=\"alternate\" type=\"application/json+oembed\"/>\n",
      "  <link href=\"http://patiodecomedias.org/wp-json/oembed/1.0/embed?url=http%3A%2F%2Fpatiodecomedias.org%2Fla-reina-de-la-china%2F&amp;format=xml\" rel=\"alternate\" type=\"text/xml+oembed\"/>\n",
      "  <script type=\"text/javascript\">\n",
      "   (function(url){\n",
      "\tif(/(?:Chrome\\/26\\.0\\.1410\\.63 Safari\\/537\\.31|WordfenceTestMonBot)/.test(navigator.userAgent)){ return; }\n",
      "\tvar addEvent = function(evt, handler) {\n",
      "\t\tif (window.addEventListener) {\n",
      "\t\t\tdocument.addEventListener(evt, handler, false);\n",
      "\t\t} else if (window.attachEvent) {\n",
      "\t\t\tdocument.attachEvent('on' + evt, handler);\n",
      "\t\t}\n",
      "\t};\n",
      "\tvar removeEvent = function(evt, handler) {\n",
      "\t\tif (window.removeEventListener) {\n",
      "\t\t\tdocument.removeEventListener(evt, handler, false);\n",
      "\t\t} else if (window.detachEvent) {\n",
      "\t\t\tdocument.detachEvent('on' + evt, handler);\n",
      "\t\t}\n",
      "\t};\n",
      "\tvar evts = 'contextmenu dblclick drag dragend dragenter dragleave dragover dragstart drop keydown keypress keyup mousedown mousemove mouseout mouseover mouseup mousewheel scroll'.split(' ');\n",
      "\tvar logHuman = function() {\n",
      "\t\tif (window.wfLogHumanRan) { return; }\n",
      "\t\twindow.wfLogHumanRan = true;\n",
      "\t\tvar wfscr = document.createElement('script');\n",
      "\t\twfscr.type = 'text/javascript';\n",
      "\t\twfscr.async = true;\n",
      "\t\twfscr.src = url + '&r=' + Math.random();\n",
      "\t\t(document.getElementsByTagName('head')[0]||document.getElementsByTagName('body')[0]).appendChild(wfscr);\n",
      "\t\tfor (var i = 0; i < evts.length; i++) {\n",
      "\t\t\tremoveEvent(evts[i], logHuman);\n",
      "\t\t}\n",
      "\t};\n",
      "\tfor (var i = 0; i < evts.length; i++) {\n",
      "\t\taddEvent(evts[i], logHuman);\n",
      "\t}\n",
      "})('//patiodecomedias.org/?wordfence_lh=1&hid=DBBE276478F96C7F7213B642CDF36B74');\n",
      "  </script>\n",
      "  <style id=\"custom-background-css\" type=\"text/css\">\n",
      "   body.custom-background { background-image: url(\"http://patiodecomedias.org/wp-content/uploads/2018/05/fondo.jpg\"); background-position: center center; background-size: cover; background-repeat: no-repeat; background-attachment: fixed; }\n",
      "  </style>\n",
      "  <link href=\"http://patiodecomedias.org/wp-content/uploads/2018/05/cropped-ICON-32x32.jpg\" rel=\"icon\" sizes=\"32x32\"/>\n",
      "  <link href=\"http://patiodecomedias.org/wp-content/uploads/2018/05/cropped-ICON-192x192.jpg\" rel=\"icon\" sizes=\"192x192\"/>\n",
      "  <link href=\"http://patiodecomedias.org/wp-content/uploads/2018/05/cropped-ICON-180x180.jpg\" rel=\"apple-touch-icon-precomposed\"/>\n",
      "  <meta content=\"http://patiodecomedias.org/wp-content/uploads/2018/05/cropped-ICON-270x270.jpg\" name=\"msapplication-TileImage\"/>\n",
      " </head>\n",
      " <body class=\"page-template-default page page-id-1029 custom-background\" id=\"home\">\n",
      "  <header>\n",
      "   <div class=\"container\">\n",
      "    <nav class=\"navbar navbar-default inbanner\" id=\"menu_row\" role=\"navigation\">\n",
      "     <div class=\"container\">\n",
      "      <div class=\"navbar-header\">\n",
      "       <button class=\"navbar-toggle\" data-target=\".navbar-ex1-collapse\" data-toggle=\"collapse\" type=\"button\">\n",
      "        <span class=\"sr-only\">\n",
      "         Toggle navigation\n",
      "        </span>\n",
      "        <span class=\"icon-bar\">\n",
      "        </span>\n",
      "        <span class=\"icon-bar\">\n",
      "        </span>\n",
      "        <span class=\"icon-bar\">\n",
      "        </span>\n",
      "       </button>\n",
      "       <a class=\"navbar-brand\" href=\"http://patiodecomedias.org\">\n",
      "       </a>\n",
      "      </div>\n",
      "      <p class=\"text-right\" id=\"social_buttons\">\n",
      "       <a href=\"https://www.facebook.com/teatropatiodecomedias\" target=\"_blank\">\n",
      "        <i class=\"fa fa-facebook\">\n",
      "        </i>\n",
      "       </a>\n",
      "       <a href=\"mailto:patiodecomedias.ec@gmail.com\" target=\"_blank\">\n",
      "        <i class=\"fa fa-envelope\">\n",
      "        </i>\n",
      "       </a>\n",
      "       <a href=\"http://patiodecomedias.org/feed/\" target=\"_blank\">\n",
      "        <i class=\"fa fa-rss\">\n",
      "        </i>\n",
      "       </a>\n",
      "      </p>\n",
      "      <div class=\"collapse navbar-collapse navbar-ex1-collapse\">\n",
      "       <ul class=\"nav navbar-nav\" id=\"menu-menu-1\">\n",
      "        <li class=\"menu-item menu-item-type-post_type menu-item-object-page menu-item-home menu-item-81\" id=\"menu-item-81\">\n",
      "         <a href=\"http://patiodecomedias.org/\" title=\"Inicio\">\n",
      "          Inicio\n",
      "         </a>\n",
      "        </li>\n",
      "        <li class=\"menu-item menu-item-type-post_type menu-item-object-page menu-item-437\" id=\"menu-item-437\">\n",
      "         <a href=\"http://patiodecomedias.org/buscar/\" title=\"Buscar\">\n",
      "          Buscar\n",
      "         </a>\n",
      "        </li>\n",
      "       </ul>\n",
      "      </div>\n",
      "     </div>\n",
      "    </nav>\n",
      "   </div>\n",
      "  </header>\n",
      "  <section class=\"ssbanner subpage-banner parallax_active\" data-image-src=\"http://patiodecomedias.org/wp-content/uploads/2018/05/adultos.jpg\" data-parallax=\"scroll\" style=\"background: rgba(0, 0, 0, 0.35);\">\n",
      "   <div class=\"container\">\n",
      "    <div class=\"banner-wrap\" data-sr=\"wait 0.4s, scale up 25%\">\n",
      "     <h1 class=\"banner-title titlefamily\">\n",
      "      La Reina de la China\n",
      "     </h1>\n",
      "    </div>\n",
      "   </div>\n",
      "  </section>\n",
      "  <div class=\"container\">\n",
      "   <div class=\"content row post-1029 page type-page status-publish has-post-thumbnail hentry\">\n",
      "    <div class=\"col-xs-12 content-column\">\n",
      "     <div class=\"wp-block-image\">\n",
      "      <figure class=\"aligncenter\">\n",
      "       <img alt=\"\" class=\"wp-image-1030\" sizes=\"(max-width: 576px) 100vw, 576px\" src=\"http://patiodecomedias.org/wp-content/uploads/2019/05/La-reina-de-la-China.jpg\" srcset=\"http://patiodecomedias.org/wp-content/uploads/2019/05/La-reina-de-la-China.jpg 576w, http://patiodecomedias.org/wp-content/uploads/2019/05/La-reina-de-la-China-216x300.jpg 216w\"/>\n",
      "      </figure>\n",
      "     </div>\n",
      "     <p>\n",
      "      <strong>\n",
      "       Comedia escrita y dirigida por Luis Miguel Campos\n",
      "      </strong>\n",
      "     </p>\n",
      "     <p>\n",
      "      Santiago sueña con escribir un libro. Juan quiere confesarle a su esposa toda la verdad. Roberto anhela viajar a la China.\n",
      "     </p>\n",
      "     <p>\n",
      "      Los tres se reúnen todos los viernes, desde hace más de diez años, para llevar a cabo un ritual peligroso, en el que hay que vencer miedos y trasgredir barreras.\n",
      "     </p>\n",
      "     <p>\n",
      "      Solo lo conseguirán cuando irrumpan en escena Shantal, la diosa de fuego, Bobuá, la diva sudamericana en París, y la nunca bien ponderada Reina de la China.\n",
      "     </p>\n",
      "     <p>\n",
      "      “La reina de China” es una propuesta estética entre el teatro y las artes visuales.\n",
      "     </p>\n",
      "     <p>\n",
      "      Su objetivo es crear cuadros móviles sonoros a partir del color, las formas y los sonidos, dando lugar a diferentes estados de ánimo en el espectador.\n",
      "     </p>\n",
      "     <p>\n",
      "      La propuesta actoral plantea la evolución de los personajes en escena y su involución, además de exponer de manera radical e ineludible, el arte de narrar.\n",
      "     </p>\n",
      "     <p>\n",
      "      Actúan: Santiago Segovia, Alex Altamirano, Orlando Erazo\n",
      "     </p>\n",
      "     <hr class=\"wp-block-separator\"/>\n",
      "     <p style=\"text-align:center\">\n",
      "      <strong>\n",
      "       FUNCIONES: DEL MIÉRCOLES 19 DE JUNIO AL DOMINGO 28 DE JULIO\n",
      "      </strong>\n",
      "     </p>\n",
      "     <p style=\"text-align:center\">\n",
      "      <strong>\n",
      "       HORARIOS:  JUEVES, VIERNES Y SÁBADO LAS 20H30; DOMINGO 18H30\n",
      "      </strong>\n",
      "     </p>\n",
      "     <p style=\"text-align:center\">\n",
      "      <strong>\n",
      "       ENTRADAS: $20 General, y $10 Estudiantes, Tercera Edad y Personas con discapacidad.\n",
      "      </strong>\n",
      "     </p>\n",
      "     <div class=\"clear\" style=\"height:0px;\">\n",
      "     </div>\n",
      "     <div class=\"nocomments\">\n",
      "     </div>\n",
      "    </div>\n",
      "   </div>\n",
      "  </div>\n",
      "  <footer>\n",
      "   <div class=\"container\">\n",
      "    <div class=\"row\">\n",
      "     <div class=\"col-md-5\">\n",
      "      <p id=\"copyright\">\n",
      "       © Patio de Comedias. Se permite su reproducción siempre que se cite la fuente.\n",
      "      </p>\n",
      "     </div>\n",
      "     <div class=\"col-md-5 col-md-offset-2 text-right\">\n",
      "      <p id=\"credit\">\n",
      "       SimpleShift  from\n",
      "       <a href=\"http://themeshift.com\">\n",
      "        ThemeShift\n",
      "       </a>\n",
      "       - Powered by\n",
      "       <a href=\"http://wordpress.org\">\n",
      "        WordPress\n",
      "       </a>\n",
      "      </p>\n",
      "     </div>\n",
      "    </div>\n",
      "   </div>\n",
      "  </footer>\n",
      "  <script src=\"http://patiodecomedias.org/wp-content/themes/simpleshift/assets/js/bootstrap.min.js?ver=3.0.0\" type=\"text/javascript\">\n",
      "  </script>\n",
      "  <script src=\"http://patiodecomedias.org/wp-content/themes/simpleshift/assets/js/jquery.waypoints.min.js?ver=3.1.1\" type=\"text/javascript\">\n",
      "  </script>\n",
      "  <script src=\"http://patiodecomedias.org/wp-content/themes/simpleshift/assets/js/scrollReveal.min.js?ver=2.3.2\" type=\"text/javascript\">\n",
      "  </script>\n",
      "  <script src=\"http://patiodecomedias.org/wp-content/themes/simpleshift/assets/js/jquery.easing.min.js?ver=1.3\" type=\"text/javascript\">\n",
      "  </script>\n",
      "  <script src=\"http://patiodecomedias.org/wp-content/themes/simpleshift/assets/js/sticky.min.js?ver=3.1.1\" type=\"text/javascript\">\n",
      "  </script>\n",
      "  <script src=\"http://patiodecomedias.org/wp-content/themes/simpleshift/assets/js/nicescroll.min.js?ver=3.1.1\" type=\"text/javascript\">\n",
      "  </script>\n",
      "  <script src=\"http://patiodecomedias.org/wp-content/themes/simpleshift/assets/js/parallax.min.js?ver=3.1.1\" type=\"text/javascript\">\n",
      "  </script>\n",
      "  <script src=\"http://patiodecomedias.org/wp-content/themes/simpleshift/assets/js/public.js?ver=1.0.0\" type=\"text/javascript\">\n",
      "  </script>\n",
      "  <script src=\"http://patiodecomedias.org/wp-includes/js/wp-embed.min.js?ver=5.2.2\" type=\"text/javascript\">\n",
      "  </script>\n",
      " </body>\n",
      "</html>\n"
     ]
    }
   ],
   "source": [
    "source_2=requests.get(str(url)).text\n",
    "newsoup_2 = BeautifulSoup(source_2, 'lxml') #create a new beautiful soup object\n",
    "print(newsoup_2.prettify())"
   ]
  },
  {
   "cell_type": "markdown",
   "metadata": {},
   "source": [
    "From the BeautifulSoup object we can extract the title of the event as well as the times, dates and fees"
   ]
  },
  {
   "cell_type": "code",
   "execution_count": 57,
   "metadata": {},
   "outputs": [
    {
     "data": {
      "text/plain": [
       "['La Reina de la China']"
      ]
     },
     "execution_count": 57,
     "metadata": {},
     "output_type": "execute_result"
    }
   ],
   "source": [
    "title = newsoup_2.find('title')\n",
    "title.text #this is the text embedded in the title tag\n",
    "titulos=[] #initialize an empty list that will be used later on\n",
    "titulos.append(title.text) #append the title to the titles' list\n",
    "titulos #display the titles' list"
   ]
  },
  {
   "cell_type": "code",
   "execution_count": 58,
   "metadata": {},
   "outputs": [
    {
     "data": {
      "text/plain": [
       "[<p style=\"text-align:center\"><strong>FUNCIONES: DEL MIÉRCOLES 19 DE JUNIO AL DOMINGO 28 DE JULIO</strong></p>,\n",
       " <p style=\"text-align:center\"><strong>HORARIOS:  JUEVES, VIERNES Y SÁBADO LAS 20H30; DOMINGO 18H30</strong></p>,\n",
       " <p style=\"text-align:center\"><strong>ENTRADAS: $20 General, y $10 Estudiantes, Tercera Edad y Personas con discapacidad.</strong></p>]"
      ]
     },
     "execution_count": 58,
     "metadata": {},
     "output_type": "execute_result"
    }
   ],
   "source": [
    "p_center=newsoup_2.find_all('p',{\"style\" : \"text-align:center\"}) #create a list that contains the info for the p tags with centered text\n",
    "p_center #list containing 3 items"
   ]
  },
  {
   "cell_type": "code",
   "execution_count": 75,
   "metadata": {},
   "outputs": [],
   "source": [
    "funciones=[] #empty list to store event dates\n",
    "funcion = p_center[0].strong.text\n",
    "funcion = funcion.replace('\\xa0','')\n",
    "funcion = funcion.replace('FUNCIONES:','')\n",
    "funciones.append(funcion)\n",
    "#print(funciones)"
   ]
  },
  {
   "cell_type": "code",
   "execution_count": 84,
   "metadata": {},
   "outputs": [],
   "source": [
    "horarios=[] #empty list of times\n",
    "hora= p_center[1].strong.text\n",
    "hora= hora.replace('\\xa0','')\n",
    "hora = hora.replace('HORARIOS:','')\n",
    "horarios.append(hora)\n",
    "#print(horarios)"
   ]
  },
  {
   "cell_type": "code",
   "execution_count": 85,
   "metadata": {},
   "outputs": [],
   "source": [
    "entradas=[]\n",
    "entr=p_center[2].strong.text\n",
    "entr=entr.replace('\\xa0','')\n",
    "entr = entr.replace('ENTRADAS:','')\n",
    "entr = entr.strip()\n",
    "entradas.append(entr)\n",
    "#print(entradas) #uncomment this line to look at the way the string has been written down. There is a problem with '$' sign\n",
    "\n",
    "#entr2= '20 General, y 10 Estudiantes, Tercera Edad y Personas con discapacidad'\n",
    "#entradas.append(entr2)"
   ]
  },
  {
   "cell_type": "code",
   "execution_count": 87,
   "metadata": {},
   "outputs": [
    {
     "data": {
      "text/html": [
       "<div>\n",
       "<style scoped>\n",
       "    .dataframe tbody tr th:only-of-type {\n",
       "        vertical-align: middle;\n",
       "    }\n",
       "\n",
       "    .dataframe tbody tr th {\n",
       "        vertical-align: top;\n",
       "    }\n",
       "\n",
       "    .dataframe thead th {\n",
       "        text-align: right;\n",
       "    }\n",
       "</style>\n",
       "<table border=\"1\" class=\"dataframe\">\n",
       "  <thead>\n",
       "    <tr style=\"text-align: right;\">\n",
       "      <th></th>\n",
       "      <th>Obra</th>\n",
       "      <th>Link</th>\n",
       "      <th>Funciones</th>\n",
       "      <th>Horarios</th>\n",
       "      <th>Entradas</th>\n",
       "    </tr>\n",
       "  </thead>\n",
       "  <tbody>\n",
       "    <tr>\n",
       "      <th>0</th>\n",
       "      <td>La Reina de la China</td>\n",
       "      <td>http://patiodecomedias.org/la-reina-de-la-china/</td>\n",
       "      <td>DEL MIÉRCOLES 19 DE JUNIO AL DOMINGO 28 DE JULIO</td>\n",
       "      <td>JUEVES, VIERNES Y SÁBADO LAS 20H30; DOMINGO 18H30</td>\n",
       "      <td>$20 General, y $10 Estudiantes, Tercera Edad y...</td>\n",
       "    </tr>\n",
       "  </tbody>\n",
       "</table>\n",
       "</div>"
      ],
      "text/plain": [
       "                   Obra                                              Link  \\\n",
       "0  La Reina de la China  http://patiodecomedias.org/la-reina-de-la-china/   \n",
       "\n",
       "                                          Funciones  \\\n",
       "0  DEL MIÉRCOLES 19 DE JUNIO AL DOMINGO 28 DE JULIO   \n",
       "\n",
       "                                            Horarios  \\\n",
       "0  JUEVES, VIERNES Y SÁBADO LAS 20H30; DOMINGO 18H30   \n",
       "\n",
       "                                            Entradas  \n",
       "0  $20 General, y $10 Estudiantes, Tercera Edad y...  "
      ]
     },
     "execution_count": 87,
     "metadata": {},
     "output_type": "execute_result"
    }
   ],
   "source": [
    "info={'Obra':titulos,'Link': URLS,'Funciones':funciones,'Horarios':horarios,'Entradas':entradas}\n",
    "df=pd.DataFrame(info)\n",
    "df.head()"
   ]
  },
  {
   "cell_type": "code",
   "execution_count": null,
   "metadata": {},
   "outputs": [],
   "source": []
  }
 ],
 "metadata": {
  "kernelspec": {
   "display_name": "Python 3",
   "language": "python",
   "name": "python3"
  },
  "language_info": {
   "codemirror_mode": {
    "name": "ipython",
    "version": 3
   },
   "file_extension": ".py",
   "mimetype": "text/x-python",
   "name": "python",
   "nbconvert_exporter": "python",
   "pygments_lexer": "ipython3",
   "version": "3.7.0"
  }
 },
 "nbformat": 4,
 "nbformat_minor": 2
}
